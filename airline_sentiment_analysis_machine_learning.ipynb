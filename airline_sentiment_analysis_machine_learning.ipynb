{
 "cells": [
  {
   "cell_type": "markdown",
   "metadata": {},
   "source": [
    "# Sentiment Analysis of Airline Tweets Using Machine Learning\n",
    "\n",
    "## Project Overview\n",
    "\n",
    "This project performs sentiment analysis on tweets related to various airlines. By using Natural Language Processing (NLP) techniques and machine learning models, we aim to classify each tweet as having a **positive**, **neutral**, or **negative** sentiment.\n",
    "\n",
    "### Objectives:\n",
    "- Preprocess and clean the tweet data.\n",
    "- Extract meaningful features using the TF-IDF method.\n",
    "- Handle class imbalance using Random Oversampling or SMOTE techniques.\n",
    "- Experiment with multiple machine learning models (Logistic Regression, Naive Bayes, SVM, Random Forest) to classify sentiments.\n",
    "- Select the best-performing model based on accuracy and other performance metrics.\n",
    "\n",
    "### Dataset:\n",
    "\n",
    "The dataset used for this project is the **Airline Tweets Sentiment Dataset**. It contains approximately 14,000 tweets related to various airlines, classified into three sentiment categories: **negative**, **neutral**, and **positive**.\n",
    "\n",
    "You can access the dataset at the following link:\n",
    "- [Airline Tweets Sentiment Dataset on Kaggle](https://www.kaggle.com/crowdflower/twitter-airline-sentiment)\n",
    "\n",
    "### Methodology:\n",
    "We will follow these steps in this project:\n",
    "1. Data Preprocessing\n",
    "2. Feature Extraction with TF-IDF\n",
    "3. Handling Class Imbalance\n",
    "4. Model Selection and Evaluation\n",
    "5. Conclusions and Future Work\n"
   ]
  },
  {
   "cell_type": "markdown",
   "metadata": {},
   "source": [
    "## Step 1: Data Exploration and Preprocessing"
   ]
  },
  {
   "cell_type": "markdown",
   "metadata": {},
   "source": [
    "### 1.1 Data Exploration\n",
    "\n",
    "We begin by loading the airline tweets dataset to explore its structure and contents. The dataset contains columns such as the tweet text, the airline the tweet is directed at, and the sentiment label (positive, neutral or negative)."
   ]
  },
  {
   "cell_type": "code",
   "execution_count": 1,
   "metadata": {},
   "outputs": [
    {
     "data": {
      "text/html": [
       "<div>\n",
       "<style scoped>\n",
       "    .dataframe tbody tr th:only-of-type {\n",
       "        vertical-align: middle;\n",
       "    }\n",
       "\n",
       "    .dataframe tbody tr th {\n",
       "        vertical-align: top;\n",
       "    }\n",
       "\n",
       "    .dataframe thead th {\n",
       "        text-align: right;\n",
       "    }\n",
       "</style>\n",
       "<table border=\"1\" class=\"dataframe\">\n",
       "  <thead>\n",
       "    <tr style=\"text-align: right;\">\n",
       "      <th></th>\n",
       "      <th>tweet_id</th>\n",
       "      <th>airline_sentiment</th>\n",
       "      <th>airline_sentiment_confidence</th>\n",
       "      <th>negativereason</th>\n",
       "      <th>negativereason_confidence</th>\n",
       "      <th>airline</th>\n",
       "      <th>airline_sentiment_gold</th>\n",
       "      <th>name</th>\n",
       "      <th>negativereason_gold</th>\n",
       "      <th>retweet_count</th>\n",
       "      <th>text</th>\n",
       "      <th>tweet_coord</th>\n",
       "      <th>tweet_created</th>\n",
       "      <th>tweet_location</th>\n",
       "      <th>user_timezone</th>\n",
       "    </tr>\n",
       "  </thead>\n",
       "  <tbody>\n",
       "    <tr>\n",
       "      <th>0</th>\n",
       "      <td>570306133677760513</td>\n",
       "      <td>neutral</td>\n",
       "      <td>1.0000</td>\n",
       "      <td>NaN</td>\n",
       "      <td>NaN</td>\n",
       "      <td>Virgin America</td>\n",
       "      <td>NaN</td>\n",
       "      <td>cairdin</td>\n",
       "      <td>NaN</td>\n",
       "      <td>0</td>\n",
       "      <td>@VirginAmerica What @dhepburn said.</td>\n",
       "      <td>NaN</td>\n",
       "      <td>2015-02-24 11:35:52 -0800</td>\n",
       "      <td>NaN</td>\n",
       "      <td>Eastern Time (US &amp; Canada)</td>\n",
       "    </tr>\n",
       "    <tr>\n",
       "      <th>1</th>\n",
       "      <td>570301130888122368</td>\n",
       "      <td>positive</td>\n",
       "      <td>0.3486</td>\n",
       "      <td>NaN</td>\n",
       "      <td>0.0000</td>\n",
       "      <td>Virgin America</td>\n",
       "      <td>NaN</td>\n",
       "      <td>jnardino</td>\n",
       "      <td>NaN</td>\n",
       "      <td>0</td>\n",
       "      <td>@VirginAmerica plus you've added commercials t...</td>\n",
       "      <td>NaN</td>\n",
       "      <td>2015-02-24 11:15:59 -0800</td>\n",
       "      <td>NaN</td>\n",
       "      <td>Pacific Time (US &amp; Canada)</td>\n",
       "    </tr>\n",
       "    <tr>\n",
       "      <th>2</th>\n",
       "      <td>570301083672813571</td>\n",
       "      <td>neutral</td>\n",
       "      <td>0.6837</td>\n",
       "      <td>NaN</td>\n",
       "      <td>NaN</td>\n",
       "      <td>Virgin America</td>\n",
       "      <td>NaN</td>\n",
       "      <td>yvonnalynn</td>\n",
       "      <td>NaN</td>\n",
       "      <td>0</td>\n",
       "      <td>@VirginAmerica I didn't today... Must mean I n...</td>\n",
       "      <td>NaN</td>\n",
       "      <td>2015-02-24 11:15:48 -0800</td>\n",
       "      <td>Lets Play</td>\n",
       "      <td>Central Time (US &amp; Canada)</td>\n",
       "    </tr>\n",
       "    <tr>\n",
       "      <th>3</th>\n",
       "      <td>570301031407624196</td>\n",
       "      <td>negative</td>\n",
       "      <td>1.0000</td>\n",
       "      <td>Bad Flight</td>\n",
       "      <td>0.7033</td>\n",
       "      <td>Virgin America</td>\n",
       "      <td>NaN</td>\n",
       "      <td>jnardino</td>\n",
       "      <td>NaN</td>\n",
       "      <td>0</td>\n",
       "      <td>@VirginAmerica it's really aggressive to blast...</td>\n",
       "      <td>NaN</td>\n",
       "      <td>2015-02-24 11:15:36 -0800</td>\n",
       "      <td>NaN</td>\n",
       "      <td>Pacific Time (US &amp; Canada)</td>\n",
       "    </tr>\n",
       "    <tr>\n",
       "      <th>4</th>\n",
       "      <td>570300817074462722</td>\n",
       "      <td>negative</td>\n",
       "      <td>1.0000</td>\n",
       "      <td>Can't Tell</td>\n",
       "      <td>1.0000</td>\n",
       "      <td>Virgin America</td>\n",
       "      <td>NaN</td>\n",
       "      <td>jnardino</td>\n",
       "      <td>NaN</td>\n",
       "      <td>0</td>\n",
       "      <td>@VirginAmerica and it's a really big bad thing...</td>\n",
       "      <td>NaN</td>\n",
       "      <td>2015-02-24 11:14:45 -0800</td>\n",
       "      <td>NaN</td>\n",
       "      <td>Pacific Time (US &amp; Canada)</td>\n",
       "    </tr>\n",
       "  </tbody>\n",
       "</table>\n",
       "</div>"
      ],
      "text/plain": [
       "             tweet_id airline_sentiment  airline_sentiment_confidence  \\\n",
       "0  570306133677760513           neutral                        1.0000   \n",
       "1  570301130888122368          positive                        0.3486   \n",
       "2  570301083672813571           neutral                        0.6837   \n",
       "3  570301031407624196          negative                        1.0000   \n",
       "4  570300817074462722          negative                        1.0000   \n",
       "\n",
       "  negativereason  negativereason_confidence         airline  \\\n",
       "0            NaN                        NaN  Virgin America   \n",
       "1            NaN                     0.0000  Virgin America   \n",
       "2            NaN                        NaN  Virgin America   \n",
       "3     Bad Flight                     0.7033  Virgin America   \n",
       "4     Can't Tell                     1.0000  Virgin America   \n",
       "\n",
       "  airline_sentiment_gold        name negativereason_gold  retweet_count  \\\n",
       "0                    NaN     cairdin                 NaN              0   \n",
       "1                    NaN    jnardino                 NaN              0   \n",
       "2                    NaN  yvonnalynn                 NaN              0   \n",
       "3                    NaN    jnardino                 NaN              0   \n",
       "4                    NaN    jnardino                 NaN              0   \n",
       "\n",
       "                                                text tweet_coord  \\\n",
       "0                @VirginAmerica What @dhepburn said.         NaN   \n",
       "1  @VirginAmerica plus you've added commercials t...         NaN   \n",
       "2  @VirginAmerica I didn't today... Must mean I n...         NaN   \n",
       "3  @VirginAmerica it's really aggressive to blast...         NaN   \n",
       "4  @VirginAmerica and it's a really big bad thing...         NaN   \n",
       "\n",
       "               tweet_created tweet_location               user_timezone  \n",
       "0  2015-02-24 11:35:52 -0800            NaN  Eastern Time (US & Canada)  \n",
       "1  2015-02-24 11:15:59 -0800            NaN  Pacific Time (US & Canada)  \n",
       "2  2015-02-24 11:15:48 -0800      Lets Play  Central Time (US & Canada)  \n",
       "3  2015-02-24 11:15:36 -0800            NaN  Pacific Time (US & Canada)  \n",
       "4  2015-02-24 11:14:45 -0800            NaN  Pacific Time (US & Canada)  "
      ]
     },
     "execution_count": 1,
     "metadata": {},
     "output_type": "execute_result"
    }
   ],
   "source": [
    "# Load the dataset\n",
    "import pandas as pd\n",
    "\n",
    "# Load the csv file into a DataFrame\n",
    "tweets = pd.read_csv('Tweets.csv')\n",
    "\n",
    "# Display the first few rows of the dataset\n",
    "tweets.head()"
   ]
  },
  {
   "cell_type": "markdown",
   "metadata": {},
   "source": [
    "### 1.2 Text Preprocessing\n",
    "\n",
    "Before feeding the tweet data into the machine learning model, we need to clean and preprocess the text. The following steps are applied:\n",
    "- **Remove URLs**: Links in the tweets are not relevant for sentiment analysis.\n",
    "- **Remove Mentions and Hashtags**: These often do not contribute to sentiment meaning.\n",
    "- **Remove Special Characters**: This step simplifies the text.\n",
    "- **Lowercasing**: To ensure uniformity, we convert all characters to lowercase."
   ]
  },
  {
   "cell_type": "code",
   "execution_count": 3,
   "metadata": {},
   "outputs": [
    {
     "data": {
      "text/html": [
       "<div>\n",
       "<style scoped>\n",
       "    .dataframe tbody tr th:only-of-type {\n",
       "        vertical-align: middle;\n",
       "    }\n",
       "\n",
       "    .dataframe tbody tr th {\n",
       "        vertical-align: top;\n",
       "    }\n",
       "\n",
       "    .dataframe thead th {\n",
       "        text-align: right;\n",
       "    }\n",
       "</style>\n",
       "<table border=\"1\" class=\"dataframe\">\n",
       "  <thead>\n",
       "    <tr style=\"text-align: right;\">\n",
       "      <th></th>\n",
       "      <th>text</th>\n",
       "      <th>cleaned_text</th>\n",
       "    </tr>\n",
       "  </thead>\n",
       "  <tbody>\n",
       "    <tr>\n",
       "      <th>0</th>\n",
       "      <td>@VirginAmerica What @dhepburn said.</td>\n",
       "      <td>what  said</td>\n",
       "    </tr>\n",
       "    <tr>\n",
       "      <th>1</th>\n",
       "      <td>@VirginAmerica plus you've added commercials t...</td>\n",
       "      <td>plus you added commercials to the experience ...</td>\n",
       "    </tr>\n",
       "    <tr>\n",
       "      <th>2</th>\n",
       "      <td>@VirginAmerica I didn't today... Must mean I n...</td>\n",
       "      <td>i didn't today must mean i need to take anoth...</td>\n",
       "    </tr>\n",
       "    <tr>\n",
       "      <th>3</th>\n",
       "      <td>@VirginAmerica it's really aggressive to blast...</td>\n",
       "      <td>it really aggressive to blast obnoxious enter...</td>\n",
       "    </tr>\n",
       "    <tr>\n",
       "      <th>4</th>\n",
       "      <td>@VirginAmerica and it's a really big bad thing...</td>\n",
       "      <td>and it a really big bad thing about it</td>\n",
       "    </tr>\n",
       "  </tbody>\n",
       "</table>\n",
       "</div>"
      ],
      "text/plain": [
       "                                                text  \\\n",
       "0                @VirginAmerica What @dhepburn said.   \n",
       "1  @VirginAmerica plus you've added commercials t...   \n",
       "2  @VirginAmerica I didn't today... Must mean I n...   \n",
       "3  @VirginAmerica it's really aggressive to blast...   \n",
       "4  @VirginAmerica and it's a really big bad thing...   \n",
       "\n",
       "                                        cleaned_text  \n",
       "0                                         what  said  \n",
       "1   plus you added commercials to the experience ...  \n",
       "2   i didn't today must mean i need to take anoth...  \n",
       "3   it really aggressive to blast obnoxious enter...  \n",
       "4             and it a really big bad thing about it  "
      ]
     },
     "execution_count": 3,
     "metadata": {},
     "output_type": "execute_result"
    }
   ],
   "source": [
    "import re\n",
    "import nltk\n",
    "\n",
    "# Define the text cleaning function\n",
    "def clean_text(text):\n",
    "    # Remove URLs\n",
    "    text = re.sub(r\"http\\S+|www\\S+|https\\S+\", '', text, flags=re.MULTILINE)\n",
    "    \n",
    "    # Remove mentions (@) and hashtags (#)\n",
    "    text = re.sub(r'\\@\\w+|\\#', '', text)\n",
    "    \n",
    "    # Remove special characters, keep letters and spaces\n",
    "    text = re.sub(r'[^A-Za-z\\s\\']', '', text)\n",
    "    \n",
    "    # Handle certain contractions\n",
    "    text = re.sub(r\"'\\b(?!t\\b)\\w+\", '', text)\n",
    "    \n",
    "    # Convert text to lowercase\n",
    "    text = text.lower()\n",
    "    \n",
    "    return text\n",
    "\n",
    "# Apply the cleaning function to the text column\n",
    "tweets['cleaned_text'] = tweets['text'].apply(clean_text)\n",
    "\n",
    "# Display the original and cleaned text\n",
    "tweets[['text', 'cleaned_text']].head()"
   ]
  },
  {
   "cell_type": "markdown",
   "metadata": {},
   "source": [
    "### 1.3 Tokenization and Stopword Removal\n",
    "\n",
    "After cleaning the text, we further process the text by tokenizing it (splitting it into individual words) and removing common English stopwords (such as 'the', 'and', 'is') that do not carry much meaning for sentiment analysis."
   ]
  },
  {
   "cell_type": "code",
   "execution_count": 4,
   "metadata": {},
   "outputs": [
    {
     "name": "stderr",
     "output_type": "stream",
     "text": [
      "[nltk_data] Downloading package stopwords to\n",
      "[nltk_data]     /Users/ardaakbulak/nltk_data...\n",
      "[nltk_data]   Package stopwords is already up-to-date!\n"
     ]
    },
    {
     "data": {
      "text/html": [
       "<div>\n",
       "<style scoped>\n",
       "    .dataframe tbody tr th:only-of-type {\n",
       "        vertical-align: middle;\n",
       "    }\n",
       "\n",
       "    .dataframe tbody tr th {\n",
       "        vertical-align: top;\n",
       "    }\n",
       "\n",
       "    .dataframe thead th {\n",
       "        text-align: right;\n",
       "    }\n",
       "</style>\n",
       "<table border=\"1\" class=\"dataframe\">\n",
       "  <thead>\n",
       "    <tr style=\"text-align: right;\">\n",
       "      <th></th>\n",
       "      <th>cleaned_text</th>\n",
       "      <th>cleaned_tokens</th>\n",
       "    </tr>\n",
       "  </thead>\n",
       "  <tbody>\n",
       "    <tr>\n",
       "      <th>0</th>\n",
       "      <td>what  said</td>\n",
       "      <td>[said]</td>\n",
       "    </tr>\n",
       "    <tr>\n",
       "      <th>1</th>\n",
       "      <td>plus you added commercials to the experience ...</td>\n",
       "      <td>[plus, added, commercials, experience, tacky]</td>\n",
       "    </tr>\n",
       "    <tr>\n",
       "      <th>2</th>\n",
       "      <td>i didn't today must mean i need to take anoth...</td>\n",
       "      <td>[n't, today, must, mean, need, take, another, ...</td>\n",
       "    </tr>\n",
       "    <tr>\n",
       "      <th>3</th>\n",
       "      <td>it really aggressive to blast obnoxious enter...</td>\n",
       "      <td>[really, aggressive, blast, obnoxious, enterta...</td>\n",
       "    </tr>\n",
       "    <tr>\n",
       "      <th>4</th>\n",
       "      <td>and it a really big bad thing about it</td>\n",
       "      <td>[really, big, bad, thing]</td>\n",
       "    </tr>\n",
       "  </tbody>\n",
       "</table>\n",
       "</div>"
      ],
      "text/plain": [
       "                                        cleaned_text  \\\n",
       "0                                         what  said   \n",
       "1   plus you added commercials to the experience ...   \n",
       "2   i didn't today must mean i need to take anoth...   \n",
       "3   it really aggressive to blast obnoxious enter...   \n",
       "4             and it a really big bad thing about it   \n",
       "\n",
       "                                      cleaned_tokens  \n",
       "0                                             [said]  \n",
       "1      [plus, added, commercials, experience, tacky]  \n",
       "2  [n't, today, must, mean, need, take, another, ...  \n",
       "3  [really, aggressive, blast, obnoxious, enterta...  \n",
       "4                          [really, big, bad, thing]  "
      ]
     },
     "execution_count": 4,
     "metadata": {},
     "output_type": "execute_result"
    }
   ],
   "source": [
    "# Download stopwords if needed\n",
    "nltk.download('stopwords')\n",
    "from nltk.tokenize import word_tokenize\n",
    "from nltk.corpus import stopwords\n",
    "\n",
    "# Set up English stopwords\n",
    "stop_words = set(stopwords.words('english'))\n",
    "\n",
    "# Function to remove stopwords and unwanted tokens like \"'ve\", \"'s\"\n",
    "def remove_stopwords(tokens):\n",
    "    unwanted_tokens = [\"'ve\", \"'s\", \"'re\", \"'ll\", \"'d\", \"'m\"]\n",
    "    return [word for word in tokens if word not in stop_words and word not in unwanted_tokens and len(word) > 1]\n",
    "\n",
    "# Tokenize the cleaned text\n",
    "tweets['tokenized_text'] = tweets['cleaned_text'].apply(nltk.word_tokenize)\n",
    "\n",
    "# Apply stopword removal on tokenized text\n",
    "tweets['cleaned_tokens'] = tweets['tokenized_text'].apply(remove_stopwords)\n",
    "\n",
    "# Display the tokenized and cleaned text\n",
    "tweets[['cleaned_text', 'cleaned_tokens']].head()"
   ]
  },
  {
   "cell_type": "markdown",
   "metadata": {},
   "source": [
    "### 1.4 Joining Tokens Back into Sentences\n",
    "\n",
    "After tokenizing and cleaning the text, we join the tokens back into a single string for each tweet. This step is necessary before applying TF-IDF, which works on complete text rather than individual tokens."
   ]
  },
  {
   "cell_type": "code",
   "execution_count": 5,
   "metadata": {},
   "outputs": [
    {
     "data": {
      "text/html": [
       "<div>\n",
       "<style scoped>\n",
       "    .dataframe tbody tr th:only-of-type {\n",
       "        vertical-align: middle;\n",
       "    }\n",
       "\n",
       "    .dataframe tbody tr th {\n",
       "        vertical-align: top;\n",
       "    }\n",
       "\n",
       "    .dataframe thead th {\n",
       "        text-align: right;\n",
       "    }\n",
       "</style>\n",
       "<table border=\"1\" class=\"dataframe\">\n",
       "  <thead>\n",
       "    <tr style=\"text-align: right;\">\n",
       "      <th></th>\n",
       "      <th>cleaned_text</th>\n",
       "      <th>cleaned_tokens</th>\n",
       "      <th>final_text</th>\n",
       "    </tr>\n",
       "  </thead>\n",
       "  <tbody>\n",
       "    <tr>\n",
       "      <th>0</th>\n",
       "      <td>what  said</td>\n",
       "      <td>[said]</td>\n",
       "      <td>said</td>\n",
       "    </tr>\n",
       "    <tr>\n",
       "      <th>1</th>\n",
       "      <td>plus you added commercials to the experience ...</td>\n",
       "      <td>[plus, added, commercials, experience, tacky]</td>\n",
       "      <td>plus added commercials experience tacky</td>\n",
       "    </tr>\n",
       "    <tr>\n",
       "      <th>2</th>\n",
       "      <td>i didn't today must mean i need to take anoth...</td>\n",
       "      <td>[n't, today, must, mean, need, take, another, ...</td>\n",
       "      <td>n't today must mean need take another trip</td>\n",
       "    </tr>\n",
       "    <tr>\n",
       "      <th>3</th>\n",
       "      <td>it really aggressive to blast obnoxious enter...</td>\n",
       "      <td>[really, aggressive, blast, obnoxious, enterta...</td>\n",
       "      <td>really aggressive blast obnoxious entertainmen...</td>\n",
       "    </tr>\n",
       "    <tr>\n",
       "      <th>4</th>\n",
       "      <td>and it a really big bad thing about it</td>\n",
       "      <td>[really, big, bad, thing]</td>\n",
       "      <td>really big bad thing</td>\n",
       "    </tr>\n",
       "  </tbody>\n",
       "</table>\n",
       "</div>"
      ],
      "text/plain": [
       "                                        cleaned_text  \\\n",
       "0                                         what  said   \n",
       "1   plus you added commercials to the experience ...   \n",
       "2   i didn't today must mean i need to take anoth...   \n",
       "3   it really aggressive to blast obnoxious enter...   \n",
       "4             and it a really big bad thing about it   \n",
       "\n",
       "                                      cleaned_tokens  \\\n",
       "0                                             [said]   \n",
       "1      [plus, added, commercials, experience, tacky]   \n",
       "2  [n't, today, must, mean, need, take, another, ...   \n",
       "3  [really, aggressive, blast, obnoxious, enterta...   \n",
       "4                          [really, big, bad, thing]   \n",
       "\n",
       "                                          final_text  \n",
       "0                                               said  \n",
       "1            plus added commercials experience tacky  \n",
       "2         n't today must mean need take another trip  \n",
       "3  really aggressive blast obnoxious entertainmen...  \n",
       "4                               really big bad thing  "
      ]
     },
     "execution_count": 5,
     "metadata": {},
     "output_type": "execute_result"
    }
   ],
   "source": [
    "# Join the cleaned tokens back into a single string\n",
    "tweets['final_text'] = tweets['cleaned_tokens'].apply(lambda tokens: ' '.join(tokens))\n",
    "\n",
    "# Display the final cleaned text\n",
    "tweets[['cleaned_text', 'cleaned_tokens', 'final_text']].head()"
   ]
  },
  {
   "cell_type": "markdown",
   "metadata": {},
   "source": [
    "### Why We Manually Preprocessed and Joined Tokens\n",
    "\n",
    "In text processing, tools like **TfidfVectorizer** can perform tokenization and stopword removal automatically. However, in this project, we opted for manual preprocessing and joining the tokens back into a single string for the following reasons:\n",
    "\n",
    "1. **Custom Stopword Handling**:\n",
    "   - We wanted more control over which words to remove. For example, common stopwords like \"the\" and \"is\" were removed, but we intentionally kept contractions like **\"n’t\"** (e.g., \"isn’t\", \"don’t\") since they carry important sentiment meaning.\n",
    "   \n",
    "2. **Custom Tokenization**:\n",
    "   - By using **NLTK’s word tokenization**, we had more control over how the text was split into individual tokens. This allowed us to handle special cases (e.g., handling apostrophes and contractions) effectively before joining the tokens back together.\n",
    "\n",
    "3. **Cleaning Special Characters**:\n",
    "   - Manual preprocessing steps allowed us to remove special characters, URLs, and mentions (like `@username`), which may not have been effectively handled by TF-IDF’s built-in preprocessing.\n",
    "\n",
    "4. **Uniform Text**:\n",
    "   - By joining the cleaned tokens into sentences, we ensured that the text was clean and uniform before it was fed into the **TF-IDF** vectorizer.\n",
    "\n",
    "Handling these steps manually ensured that our preprocessing pipeline was more tailored to the sentiment analysis task."
   ]
  },
  {
   "cell_type": "markdown",
   "metadata": {},
   "source": [
    "## Step 2: Feature Extraction (TF-IDF)"
   ]
  },
  {
   "cell_type": "markdown",
   "metadata": {},
   "source": [
    "### 2.1 TF-IDF (Term Frequency-Inverse Document Frequency)\n",
    "In this step, we convert the cleaned tweet text into numerical features using the TF-IDF method. TF-IDF helps us assign weights to words based on how frequently they appear in the text (Term Frequency) and how unique they are across all tweets (Inverse Document Frequency).\n",
    "\n",
    "This process helps the model focus on important words that distinguish between tweets, improving its ability to capture meaningful patterns in the text."
   ]
  },
  {
   "cell_type": "code",
   "execution_count": 6,
   "metadata": {},
   "outputs": [
    {
     "name": "stdout",
     "output_type": "stream",
     "text": [
      "TF-IDF matrix shape: (14640, 12311)\n",
      "Sample of features (words or n-grams): ['aa' 'aaaand' 'aaadvantage' 'aaalwayslate' 'aaba' 'aacom' 'aadavantage'\n",
      " 'aadelay' 'aadfw' 'aadv']\n"
     ]
    }
   ],
   "source": [
    "from sklearn.feature_extraction.text import TfidfVectorizer\n",
    "\n",
    "# Initialize the TfidfVectorizer to include unigrams and bigrams\n",
    "tfidf_vectorizer = TfidfVectorizer()\n",
    "\n",
    "# Fit and transform the final cleaned text to create the TF-IDF matrix\n",
    "X = tfidf_vectorizer.fit_transform(tweets['final_text'])\n",
    "\n",
    "# Display the shape of the TF-IDF matrix\n",
    "print(\"TF-IDF matrix shape:\", X.shape)\n",
    "\n",
    "# Extract the feature names (words and phrases) for reference\n",
    "feature_names = tfidf_vectorizer.get_feature_names_out()\n",
    "\n",
    "# Display the first 10 feature names\n",
    "print(\"Sample of features (words or n-grams):\", feature_names[:10])"
   ]
  },
  {
   "cell_type": "markdown",
   "metadata": {},
   "source": [
    "### Unigram vs Bigram Comparison\n",
    "\n",
    "In this project, we experimented with both **unigrams** and **bigrams** during the TF-IDF feature extraction step. While **unigrams** focus on individual words, **bigrams** capture two-word combinations, which can provide additional context.\n",
    "\n",
    "For example:\n",
    "- **Unigram**: \"not\", \"good\"\n",
    "- **Bigram**: \"not good\"\n",
    "\n",
    "Including bigrams adds more context but increases the number of features in the model, which can make training slower or lead to overfitting. In our case, adding bigrams led to a slight improvement in accuracy, but the change was small. Therefore, we decided to prioritize **unigrams** for simplicity and performance trade-offs."
   ]
  },
  {
   "cell_type": "markdown",
   "metadata": {},
   "source": [
    "### 2.2 Top 10 Most Occurring Words\n",
    "\n",
    "In this section, we extract and display the top 10 most occurring words (or n-grams) across the entire dataset, based on their **TF-IDF** scores. These words represent the most important terms in the dataset, and their high TF-IDF values indicate their significance across the tweets.\n"
   ]
  },
  {
   "cell_type": "markdown",
   "metadata": {},
   "source": [
    "### Most Occurring Words/N-Grams\n",
    "\n",
    "After extracting the TF-IDF features, we now visualize the most frequently occurring words and n-grams in the dataset. This helps us understand which terms are most significant across the tweets."
   ]
  },
  {
   "cell_type": "code",
   "execution_count": 7,
   "metadata": {},
   "outputs": [
    {
     "name": "stdout",
     "output_type": "stream",
     "text": [
      "Top 10 most occurring words/n-grams:\n",
      "flight: 528.6190\n",
      "thanks: 307.1409\n",
      "get: 249.5406\n",
      "thank: 233.8679\n",
      "cancelled: 207.9545\n",
      "service: 194.2042\n",
      "help: 189.7176\n",
      "customer: 161.5516\n",
      "time: 160.1584\n",
      "hold: 156.2140\n"
     ]
    }
   ],
   "source": [
    "import numpy as np\n",
    "\n",
    "# Sum the TF-IDF values for each feature (word/n-gram) across all tweets\n",
    "tfidf_sum = X.sum(axis=0)\n",
    "\n",
    "# Get the indices of the top 10 most frequent words/n-grams\n",
    "top_n = 10\n",
    "indices = np.argsort(tfidf_sum.A1)[::-1][:top_n]\n",
    "\n",
    "# Get the corresponding feature names (words/n-grams) and their scores\n",
    "top_words = [(feature_names[i], tfidf_sum[0, i]) for i in indices]\n",
    "\n",
    "# Print the most occurring words/n-grams\n",
    "print(\"Top 10 most occurring words/n-grams:\")\n",
    "for word, score in top_words:\n",
    "    print(f\"{word}: {score:.4f}\")"
   ]
  },
  {
   "cell_type": "code",
   "execution_count": 8,
   "metadata": {},
   "outputs": [
    {
     "data": {
      "image/png": "[encoded data removed]",
      "text/plain": [
       "<Figure size 720x432 with 1 Axes>"
      ]
     },
     "metadata": {
      "needs_background": "light"
     },
     "output_type": "display_data"
    }
   ],
   "source": [
    "import matplotlib.pyplot as plt\n",
    "\n",
    "# Unzip the top words and their scores for visualization\n",
    "words, scores = zip(*top_words)\n",
    "\n",
    "# Create a bar plot of the most frequent words\n",
    "plt.figure(figsize=(10, 6))\n",
    "plt.barh(words, scores, color='skyblue')\n",
    "plt.xlabel(\"TF-IDF Score\")\n",
    "plt.title(\"Top 10 Most Occurring Words/N-Grams (TF-IDF)\")\n",
    "plt.gca().invert_yaxis()  # Invert the y-axis to have the highest scores on top\n",
    "plt.show()"
   ]
  },
  {
   "cell_type": "markdown",
   "metadata": {},
   "source": [
    "### 2.3 Top 10 Most Occurring Words in Positive, Neutral, and Negative Tweets\n",
    "\n",
    "To further analyze the dataset, we extract the top 10 most important words (or n-grams) in each sentiment category: **positive**, **neutral**, and **negative** tweets. This allows us to understand which words are more dominant and contribute most to each sentiment type."
   ]
  },
  {
   "cell_type": "code",
   "execution_count": 9,
   "metadata": {},
   "outputs": [
    {
     "name": "stdout",
     "output_type": "stream",
     "text": [
      "Top words in positive tweets: [('thanks', 201.98961709511957), ('thank', 185.56575541939327), ('great', 74.04977697309126), ('flight', 50.95914695023271), ('love', 40.91701391898765), ('much', 40.85290988557015), ('awesome', 39.11641604407156), ('best', 37.03425841188686), ('good', 33.52863001705442), ('guys', 33.423788713676615)]\n",
      "Top words in neutral tweets: [('flight', 96.85783454551648), ('dm', 60.594186338916735), ('fleek', 54.68144227123885), ('fleet', 53.02046912032871), ('please', 51.02783621814372), ('get', 48.97326256844832), ('thanks', 45.23173743396826), ('flights', 41.063390856950114), ('need', 39.87089610955991), ('help', 38.9365768494016)]\n",
      "Top words in negative tweets: [('flight', 380.8020382007944), ('get', 179.2731585097608), ('cancelled', 179.1143237752859), ('service', 149.9235455988539), ('hold', 148.65343825283594), ('hours', 147.75251036602663), ('customer', 130.15961623392195), ('help', 129.85106579183238), ('time', 118.62635855972803), ('delayed', 116.53144500000897)]\n"
     ]
    }
   ],
   "source": [
    "# Function to get top n words for a specific sentiment\n",
    "def get_top_words_for_sentiment(sentiment, top_n=10):\n",
    "    # Filter tweets based on the sentiment\n",
    "    filtered_X = X[tweets['airline_sentiment'] == sentiment]\n",
    "    \n",
    "    # Sum the TF-IDF values for each feature (word/n-gram) across all filtered tweets\n",
    "    tfidf_sum_filtered = filtered_X.sum(axis=0)\n",
    "    \n",
    "    # Get the indices of the top n most frequent words/n-grams\n",
    "    indices_filtered = np.argsort(tfidf_sum_filtered.A1)[::-1][:top_n]\n",
    "    \n",
    "    # Get the corresponding feature names and their scores\n",
    "    top_words_filtered = [(feature_names[i], tfidf_sum_filtered[0, i]) for i in indices_filtered]\n",
    "    \n",
    "    return top_words_filtered\n",
    "\n",
    "# Get top words for positive, neutral, and negative tweets\n",
    "top_positive = get_top_words_for_sentiment('positive')\n",
    "top_neutral = get_top_words_for_sentiment('neutral')\n",
    "top_negative = get_top_words_for_sentiment('negative')\n",
    "\n",
    "# Print the results\n",
    "print(\"Top words in positive tweets:\", top_positive)\n",
    "print(\"Top words in neutral tweets:\", top_neutral)\n",
    "print(\"Top words in negative tweets:\", top_negative)\n"
   ]
  },
  {
   "cell_type": "code",
   "execution_count": 10,
   "metadata": {},
   "outputs": [
    {
     "data": {
      "image/png": "[encoded data removed]",
      "text/plain": [
       "<Figure size 720x432 with 1 Axes>"
      ]
     },
     "metadata": {
      "needs_background": "light"
     },
     "output_type": "display_data"
    },
    {
     "data": {
      "image/png": "[encoded data removed]",
      "text/plain": [
       "<Figure size 720x432 with 1 Axes>"
      ]
     },
     "metadata": {
      "needs_background": "light"
     },
     "output_type": "display_data"
    },
    {
     "data": {
      "image/png": "[encoded data removed]",
      "text/plain": [
       "<Figure size 720x432 with 1 Axes>"
      ]
     },
     "metadata": {
      "needs_background": "light"
     },
     "output_type": "display_data"
    }
   ],
   "source": [
    "# Function to visualize top words with a bar plot\n",
    "def plot_top_words(top_words, sentiment):\n",
    "    words, scores = zip(*top_words)\n",
    "    \n",
    "    plt.figure(figsize=(10, 6))\n",
    "    plt.barh(words, scores, color='skyblue')\n",
    "    plt.xlabel(\"TF-IDF Score\")\n",
    "    plt.title(f\"Top 10 Most Occurring Words in {sentiment.capitalize()} Tweets (TF-IDF)\")\n",
    "    plt.gca().invert_yaxis()  # Invert the y-axis to have the highest scores on top\n",
    "    plt.show()\n",
    "\n",
    "# Visualize the top words for each sentiment\n",
    "plot_top_words(top_positive, 'positive')\n",
    "plot_top_words(top_neutral, 'neutral')\n",
    "plot_top_words(top_negative, 'negative')"
   ]
  },
  {
   "cell_type": "markdown",
   "metadata": {},
   "source": [
    "## Step 3: Handling Class Imbalance\n",
    "\n",
    "In the original dataset, there was a significant **class imbalance**. The majority of tweets were classified as **negative**, with fewer classified as **neutral** or **positive**. This imbalance caused the models to favor the majority class (negative) while performing poorly on the minority classes (neutral and positive).\n",
    "\n",
    "### Effects of Class Imbalance:\n",
    "\n",
    "1. **Biased Predictions**: With imbalanced data, models tend to predict the majority class (negative tweets) more often, leading to poor classification of the minority classes (neutral and positive).\n",
    "   \n",
    "2. **Skewed Accuracy**: Although the overall accuracy might seem decent, the model could perform poorly on minority classes, leading to artificially inflated accuracy without actually classifying all classes effectively.\n",
    "\n",
    "### Solution: Balancing the Data\n",
    "To address this class imbalance, we applied two techniques:\n",
    "- **Random Oversampling**: This method duplicates instances from the minority classes (neutral and positive) to balance the dataset. This technique is simple but risks overfitting by creating duplicate samples.\n",
    "- **SMOTE (Synthetic Minority Over-sampling Technique)**: SMOTE generates synthetic instances for the minority classes by creating interpolations between existing samples, which introduces more diversity in the dataset and reduces overfitting risk."
   ]
  },
  {
   "cell_type": "code",
   "execution_count": 11,
   "metadata": {},
   "outputs": [
    {
     "name": "stdout",
     "output_type": "stream",
     "text": [
      "Class distribution after Random Oversampling:\n",
      "neutral     9178\n",
      "positive    9178\n",
      "negative    9178\n",
      "Name: airline_sentiment, dtype: int64\n"
     ]
    }
   ],
   "source": [
    "# Random Oversampling to balance the class distribution\n",
    "\n",
    "from imblearn.over_sampling import RandomOverSampler\n",
    "\n",
    "# Initialize Random Oversampling\n",
    "ros = RandomOverSampler(random_state=42)\n",
    "\n",
    "# Apply Random Oversampling to the feature matrix (X) and target labels (y)\n",
    "X_resampled, y_resampled = ros.fit_resample(X, tweets['airline_sentiment'])\n",
    "\n",
    "# Display the class distribution after oversampling\n",
    "print(\"Class distribution after Random Oversampling:\")\n",
    "print(y_resampled.value_counts())"
   ]
  },
  {
   "cell_type": "code",
   "execution_count": 12,
   "metadata": {},
   "outputs": [
    {
     "name": "stdout",
     "output_type": "stream",
     "text": [
      "Class distribution after SMOTE:\n",
      "neutral     9178\n",
      "positive    9178\n",
      "negative    9178\n",
      "Name: airline_sentiment, dtype: int64\n"
     ]
    }
   ],
   "source": [
    "# Smote to balance the class distribution\n",
    "\n",
    "from imblearn.over_sampling import SMOTE\n",
    "\n",
    "# Initialize SMOTE\n",
    "smote = SMOTE(random_state=42)\n",
    "\n",
    "# Apply SMOTE to the feature matrix (X) and target labels (y)\n",
    "X_smote, y_smote = smote.fit_resample(X, tweets['airline_sentiment'])\n",
    "\n",
    "# Display the class distribution after SMOTE\n",
    "print(\"Class distribution after SMOTE:\")\n",
    "print(y_smote.value_counts())\n"
   ]
  },
  {
   "cell_type": "markdown",
   "metadata": {},
   "source": [
    "### Impact of Balancing Class Data on Model Performance\n",
    "\n",
    "After balancing the dataset using both **Random Oversampling** and **SMOTE**, we observed significant improvements in the model’s ability to correctly classify the minority classes (neutral and positive tweets). Key benefits of balancing the dataset include:\n",
    "\n",
    "1. **Improved Precision and Recall**: The recall and precision for neutral and positive classes improved, allowing the models to better identify these tweets without defaulting to the majority class.\n",
    "   \n",
    "2. **More Reliable Performance**: With a balanced dataset, the models performed more reliably across all classes, rather than focusing only on the majority class (negative tweets).\n",
    "\n",
    "3. **More Balanced Evaluation Metrics**: Metrics such as accuracy and F1-score became more meaningful, reflecting the models' improved performance on all classes rather than just the majority class.\n",
    "\n",
    "### Decision: Using Both SMOTE and Random Oversampling\n",
    "\n",
    "After evaluating both **Random Oversampling** and **SMOTE**, we decided to continue using both techniques for model training. By using both methods, we aim to compare their results and select the one that performs best in terms of accuracy, recall, precision, and F1-score across all classes."
   ]
  },
  {
   "cell_type": "markdown",
   "metadata": {},
   "source": [
    "## Step 4: Model Selection and Evaluation\n",
    "\n",
    "With the dataset balanced using both **Random Oversampling** and **SMOTE**, we will now train and evaluate several machine learning models. The models we will experiment with include:\n",
    "- **Logistic Regression**: A widely-used linear model for classification tasks.\n",
    "- **Naive Bayes**: A probabilistic classifier often used for text classification.\n",
    "- **Support Vector Machine (SVM)**: A powerful classifier that finds the hyperplane that best separates the classes.\n",
    "- **Random Forest**: An ensemble method that builds multiple decision trees and averages their results.\n",
    "\n",
    "We will evaluate each model using key performance metrics:\n",
    "- **Accuracy**: The proportion of correctly classified instances.\n",
    "- **Precision**: The proportion of true positive predictions out of all positive predictions.\n",
    "- **Recall**: The proportion of true positive predictions out of all actual positive instances.\n",
    "- **F1-score**: The harmonic mean of precision and recall, providing a balanced metric for imbalanced datasets."
   ]
  },
  {
   "cell_type": "code",
   "execution_count": 15,
   "metadata": {},
   "outputs": [
    {
     "name": "stdout",
     "output_type": "stream",
     "text": [
      "Logistic Regression (ROS) Accuracy: 0.8549119302705648\n",
      "              precision    recall  f1-score   support\n",
      "\n",
      "    negative       0.88      0.80      0.84      1895\n",
      "     neutral       0.79      0.86      0.82      1786\n",
      "    positive       0.90      0.91      0.91      1826\n",
      "\n",
      "    accuracy                           0.85      5507\n",
      "   macro avg       0.86      0.86      0.85      5507\n",
      "weighted avg       0.86      0.85      0.85      5507\n",
      "\n",
      "Naive Bayes (ROS) Accuracy: 0.831668785182495\n",
      "              precision    recall  f1-score   support\n",
      "\n",
      "    negative       0.84      0.82      0.83      1895\n",
      "     neutral       0.80      0.77      0.79      1786\n",
      "    positive       0.85      0.90      0.87      1826\n",
      "\n",
      "    accuracy                           0.83      5507\n",
      "   macro avg       0.83      0.83      0.83      5507\n",
      "weighted avg       0.83      0.83      0.83      5507\n",
      "\n",
      "SVM (ROS) Accuracy: 0.8596331941165789\n",
      "              precision    recall  f1-score   support\n",
      "\n",
      "    negative       0.88      0.80      0.84      1895\n",
      "     neutral       0.80      0.85      0.82      1786\n",
      "    positive       0.90      0.93      0.92      1826\n",
      "\n",
      "    accuracy                           0.86      5507\n",
      "   macro avg       0.86      0.86      0.86      5507\n",
      "weighted avg       0.86      0.86      0.86      5507\n",
      "\n",
      "Random Forest (ROS) Accuracy: 0.9268204103867804\n",
      "              precision    recall  f1-score   support\n",
      "\n",
      "    negative       0.96      0.85      0.90      1895\n",
      "     neutral       0.88      0.95      0.92      1786\n",
      "    positive       0.94      0.98      0.96      1826\n",
      "\n",
      "    accuracy                           0.93      5507\n",
      "   macro avg       0.93      0.93      0.93      5507\n",
      "weighted avg       0.93      0.93      0.93      5507\n",
      "\n"
     ]
    }
   ],
   "source": [
    "# Training models with Random Oversampling\n",
    "\n",
    "from sklearn.linear_model import LogisticRegression\n",
    "from sklearn.naive_bayes import MultinomialNB\n",
    "from sklearn.svm import SVC\n",
    "from sklearn.ensemble import RandomForestClassifier\n",
    "from sklearn.metrics import accuracy_score, classification_report\n",
    "from sklearn.model_selection import train_test_split\n",
    "\n",
    "# Split the resampled data from Random Oversampling into training and test sets\n",
    "X_train_ros, X_test_ros, y_train_ros, y_test_ros = train_test_split(X_resampled, y_resampled, test_size=0.2, random_state=42)\n",
    "\n",
    "# Logistic Regression with Random Oversampling\n",
    "logreg_ros = LogisticRegression(max_iter=1000)\n",
    "logreg_ros.fit(X_train_ros, y_train_ros)\n",
    "y_pred_logreg_ros = logreg_ros.predict(X_test_ros)\n",
    "print(\"Logistic Regression (ROS) Accuracy:\", accuracy_score(y_test_ros, y_pred_logreg_ros))\n",
    "print(classification_report(y_test_ros, y_pred_logreg_ros))\n",
    "\n",
    "#Naive Bayes with Random Oversampling\n",
    "nb_ros = MultinomialNB()\n",
    "nb_ros.fit(X_train_ros, y_train_ros)\n",
    "y_pred_nb_ros = nb_ros.predict(X_test_ros)\n",
    "print(\"Naive Bayes (ROS) Accuracy:\", accuracy_score(y_test_ros, y_pred_nb_ros))\n",
    "print(classification_report(y_test_ros, y_pred_nb_ros))\n",
    "\n",
    "# SVM with Random Oversampling\n",
    "svm_ros = SVC(kernel='linear', random_state=42)\n",
    "svm_ros.fit(X_train_ros, y_train_ros)\n",
    "y_pred_svm_ros = svm_ros.predict(X_test_ros)\n",
    "print(\"SVM (ROS) Accuracy:\", accuracy_score(y_test_ros, y_pred_svm_ros))\n",
    "print(classification_report(y_test_ros, y_pred_svm_ros))\n",
    "\n",
    "# Random Forest with Random Oversampling\n",
    "rf_ros = RandomForestClassifier(random_state=42)\n",
    "rf_ros.fit(X_train_ros, y_train_ros)\n",
    "y_pred_rf_ros = rf_ros.predict(X_test_ros)\n",
    "print(\"Random Forest (ROS) Accuracy:\", accuracy_score(y_test_ros, y_pred_rf_ros))\n",
    "print(classification_report(y_test_ros, y_pred_rf_ros))"
   ]
  },
  {
   "cell_type": "code",
   "execution_count": 16,
   "metadata": {},
   "outputs": [
    {
     "name": "stdout",
     "output_type": "stream",
     "text": [
      "Logistic Regression (SMOTE) Accuracy: 0.8195024514254585\n",
      "              precision    recall  f1-score   support\n",
      "\n",
      "    negative       0.89      0.80      0.84      1895\n",
      "     neutral       0.72      0.87      0.79      1786\n",
      "    positive       0.87      0.79      0.83      1826\n",
      "\n",
      "    accuracy                           0.82      5507\n",
      "   macro avg       0.83      0.82      0.82      5507\n",
      "weighted avg       0.83      0.82      0.82      5507\n",
      "\n",
      "Naive Bayes (SMOTE) Accuracy: 0.8191392772834574\n",
      "              precision    recall  f1-score   support\n",
      "\n",
      "    negative       0.78      0.85      0.81      1895\n",
      "     neutral       0.81      0.73      0.77      1786\n",
      "    positive       0.87      0.87      0.87      1826\n",
      "\n",
      "    accuracy                           0.82      5507\n",
      "   macro avg       0.82      0.82      0.82      5507\n",
      "weighted avg       0.82      0.82      0.82      5507\n",
      "\n",
      "SVM (SMOTE) Accuracy: 0.8162338841474487\n",
      "              precision    recall  f1-score   support\n",
      "\n",
      "    negative       0.89      0.82      0.85      1895\n",
      "     neutral       0.71      0.87      0.78      1786\n",
      "    positive       0.88      0.76      0.82      1826\n",
      "\n",
      "    accuracy                           0.82      5507\n",
      "   macro avg       0.83      0.82      0.82      5507\n",
      "weighted avg       0.83      0.82      0.82      5507\n",
      "\n",
      "Random Forest (SMOTE) Accuracy: 0.8779734882876339\n",
      "              precision    recall  f1-score   support\n",
      "\n",
      "    negative       0.90      0.83      0.86      1895\n",
      "     neutral       0.82      0.89      0.85      1786\n",
      "    positive       0.91      0.92      0.92      1826\n",
      "\n",
      "    accuracy                           0.88      5507\n",
      "   macro avg       0.88      0.88      0.88      5507\n",
      "weighted avg       0.88      0.88      0.88      5507\n",
      "\n"
     ]
    }
   ],
   "source": [
    "# Training models with SMOTE\n",
    "\n",
    "# Split the resampled data from SMOTE into training and test sets\n",
    "X_train_smote, X_test_smote, y_train_smote, y_test_smote = train_test_split(X_smote, y_smote, test_size=0.2, random_state=42)\n",
    "\n",
    "# Logistic Regression with SMOTE\n",
    "logreg_smote = LogisticRegression(max_iter=1000)\n",
    "logreg_smote.fit(X_train_smote, y_train_smote)\n",
    "y_pred_logreg_smote = logreg_smote.predict(X_test_smote)\n",
    "print(\"Logistic Regression (SMOTE) Accuracy:\", accuracy_score(y_test_smote, y_pred_logreg_smote))\n",
    "print(classification_report(y_test_smote, y_pred_logreg_smote))\n",
    "\n",
    "# Naive Bayes with SMOTE\n",
    "nb_smote = MultinomialNB()\n",
    "nb_smote.fit(X_train_smote, y_train_smote)\n",
    "y_pred_nb_smote = nb_smote.predict(X_test_smote)\n",
    "print(\"Naive Bayes (SMOTE) Accuracy:\", accuracy_score(y_test_smote, y_pred_nb_smote))\n",
    "print(classification_report(y_test_smote, y_pred_nb_smote))\n",
    "\n",
    "# SVM with SMOTE\n",
    "svm_smote = SVC(kernel='linear', random_state=42)\n",
    "svm_smote.fit(X_train_smote, y_train_smote)\n",
    "y_pred_svm_smote = svm_smote.predict(X_test_smote)\n",
    "print(\"SVM (SMOTE) Accuracy:\", accuracy_score(y_test_smote, y_pred_svm_smote))\n",
    "print(classification_report(y_test_smote, y_pred_svm_smote))\n",
    "\n",
    "# Random Forest with SMOTE\n",
    "rf_smote = RandomForestClassifier(random_state=42)\n",
    "rf_smote.fit(X_train_smote, y_train_smote)\n",
    "y_pred_rf_smote = rf_smote.predict(X_test_smote)\n",
    "print(\"Random Forest (SMOTE) Accuracy:\", accuracy_score(y_test_smote, y_pred_rf_smote))\n",
    "print(classification_report(y_test_smote, y_pred_rf_smote))"
   ]
  },
  {
   "cell_type": "markdown",
   "metadata": {},
   "source": [
    "## Model Comparison\n",
    "\n",
    "We trained and evaluated several models using both **Random Oversampling (ROS)** and **SMOTE** techniques to address the class imbalance in the dataset. The models we compared were:\n",
    "- **Logistic Regression**\n",
    "- **Naive Bayes**\n",
    "- **Support Vector Machine (SVM)**\n",
    "- **Random Forest**\n",
    "\n",
    "### Results Overview:\n",
    "\n",
    "| Model                    | Oversampling Technique | Accuracy | Macro Avg F1 Score |\n",
    "|--------------------------|------------------------|----------|--------------------|\n",
    "| Logistic Regression       | ROS                    | 85.5%    | 0.85               |\n",
    "| Naive Bayes               | ROS                    | 83.2%    | 0.83               |\n",
    "| SVM                       | ROS                    | 86.0%    | 0.86               |\n",
    "| Random Forest             | ROS                    | 92.7%    | 0.93               |\n",
    "| Logistic Regression       | SMOTE                  | 81.9%    | 0.82               |\n",
    "| Naive Bayes               | SMOTE                  | 81.9%    | 0.82               |\n",
    "| SVM                       | SMOTE                  | 81.6%    | 0.82               |\n",
    "| Random Forest             | SMOTE                  | 87.8%    | 0.88               |\n",
    "\n",
    "### Model Selection:\n",
    "\n",
    "Based on the results, **Random Forest (ROS)** provided the best overall performance, with an accuracy of **92.7%** and a macro-average F1-score of **0.93**. This model was selected due to its balanced performance across all classes, outperforming the other models in terms of both precision and recall."
   ]
  },
  {
   "cell_type": "markdown",
   "metadata": {},
   "source": [
    "### Confusion Matrix - Random Forest (ROS)\n",
    "\n",
    "The confusion matrix allows us to visualize the performance of the Random Forest model by showing the counts of true positive, false positive, true negative, and false negative classifications for each sentiment class (negative, neutral, positive)."
   ]
  },
  {
   "cell_type": "code",
   "execution_count": 17,
   "metadata": {},
   "outputs": [
    {
     "data": {
      "image/png": "[encoded data removed]",
      "text/plain": [
       "<Figure size 432x288 with 2 Axes>"
      ]
     },
     "metadata": {
      "needs_background": "light"
     },
     "output_type": "display_data"
    }
   ],
   "source": [
    "from sklearn.metrics import confusion_matrix, ConfusionMatrixDisplay\n",
    "\n",
    "# Generate predictions for the test set\n",
    "y_pred_rf_ros = rf_ros.predict(X_test_ros)\n",
    "\n",
    "# Generate confusion matrix\n",
    "conf_matrix = confusion_matrix(y_test_ros, y_pred_rf_ros)\n",
    "\n",
    "# Visualize the confusion matrix\n",
    "disp = ConfusionMatrixDisplay(confusion_matrix=conf_matrix, display_labels=['Negative', 'Neutral', 'Positive'])\n",
    "disp.plot(cmap=plt.cm.Blues)\n",
    "plt.title(\"Confusion Matrix - Random Forest (ROS)\")\n",
    "plt.show()"
   ]
  },
  {
   "cell_type": "markdown",
   "metadata": {},
   "source": [
    "### Feature Importance - Random Forest (ROS)\n",
    "\n",
    "Random Forest models allow us to identify the most important features (words) used in making predictions. Below, we visualize the top 10 most important features that influenced the model's predictions."
   ]
  },
  {
   "cell_type": "code",
   "execution_count": 18,
   "metadata": {},
   "outputs": [
    {
     "data": {
      "image/png": "[encoded data removed]",
      "text/plain": [
       "<Figure size 720x432 with 1 Axes>"
      ]
     },
     "metadata": {
      "needs_background": "light"
     },
     "output_type": "display_data"
    }
   ],
   "source": [
    "\n",
    "# Get feature importances from the random forest model\n",
    "feature_importances = rf_ros.feature_importances_\n",
    "\n",
    "# Sort feature importances in descending order and get the top 10 features\n",
    "indices = np.argsort(feature_importances)[-10:]\n",
    "\n",
    "# Get the corresponding feature names from the TF-IDF vectorizer\n",
    "feature_names = np.array(tfidf_vectorizer.get_feature_names_out())\n",
    "\n",
    "# Plot feature importances\n",
    "plt.figure(figsize=(10, 6))\n",
    "plt.barh(range(len(indices)), feature_importances[indices], align='center')\n",
    "plt.yticks(range(len(indices)), feature_names[indices])\n",
    "plt.xlabel(\"Feature Importance\")\n",
    "plt.title(\"Top 10 Important Features - Random Forest (ROS)\")\n",
    "plt.show()"
   ]
  },
  {
   "cell_type": "markdown",
   "metadata": {},
   "source": [
    "### Cross-Validation - Random Forest (ROS)\n",
    "\n",
    "To ensure that our chosen model generalizes well and isn't overfitting to the training data, we perform **5-fold cross-validation**. This process will split the data into five parts, train the model on four parts, and test it on the remaining part, rotating through all five combinations.\n",
    "\n",
    "The goal of cross-validation is to assess the model's performance on unseen data and confirm that it performs consistently across different subsets of the data.\n",
    "\n",
    "Below, we run cross-validation for the **Random Forest (ROS)** model."
   ]
  },
  {
   "cell_type": "code",
   "execution_count": 19,
   "metadata": {},
   "outputs": [
    {
     "name": "stdout",
     "output_type": "stream",
     "text": [
      "Cross-Validation Scores: [0.91338297 0.91065916 0.92155439 0.9522426  0.93861242]\n",
      "Mean Cross-Validation Score: 0.9272903073333143\n"
     ]
    }
   ],
   "source": [
    "from sklearn.model_selection import cross_val_score\n",
    "\n",
    "# Perform 5-fold cross-validation on the best-performing model (Random Forest with ROS)\n",
    "rf_model_cv = RandomForestClassifier(random_state=42)\n",
    "cv_scores = cross_val_score(rf_model_cv, X_resampled, y_resampled, cv=5)  # 5-fold cross-validation\n",
    "\n",
    "# Print the cross-validation results\n",
    "print(\"Cross-Validation Scores:\", cv_scores)\n",
    "print(\"Mean Cross-Validation Score:\", cv_scores.mean())"
   ]
  },
  {
   "cell_type": "markdown",
   "metadata": {},
   "source": [
    "### Cross-Validation Results Evaluation\n",
    "\n",
    "To validate the generalization capability of the **Random Forest (ROS)** model, we performed **5-fold cross-validation**. This process helps ensure that the model's performance is not overly dependent on the specific training set and can generalize well to unseen data.\n",
    "\n",
    "The cross-validation scores were as follows:\n",
    "\n",
    "- **Fold 1**: 91.34%\n",
    "- **Fold 2**: 91.07%\n",
    "- **Fold 3**: 92.16%\n",
    "- **Fold 4**: 95.22%\n",
    "- **Fold 5**: 93.86%\n",
    "\n",
    "The **mean cross-validation score** is **92.73%**, which is consistent with the original accuracy of the model on the test set (92.68%). This consistency across different folds indicates that the model generalizes well to different subsets of data and is not overfitting to a particular fold.\n",
    "\n",
    "### Evaluation:\n",
    "The cross-validation results further confirm that the **Random Forest (ROS)** model performs reliably and consistently, with strong generalization capability. This reinforces our decision to select this model as the final classifier for sentiment analysis in this project."
   ]
  },
  {
   "cell_type": "markdown",
   "metadata": {},
   "source": [
    "## Step 5: Conclusion\n",
    "\n",
    "In this project, we successfully developed a sentiment analysis classifier for airline tweets, aimed at categorizing tweets into **negative**, **neutral**, or **positive** sentiments.\n",
    "\n",
    "### Model Comparison:\n",
    "We evaluated four different machine learning models—**Logistic Regression**, **Naive Bayes**, **Support Vector Machine (SVM)**, and **Random Forest**—using both **Random Oversampling (ROS)** and **SMOTE** techniques to address the class imbalance in the dataset. After comparing the models, we found that **Random Forest (ROS)** achieved the best overall performance with an accuracy of **92.68%** and a macro-average F1-score of **0.93**.\n",
    "\n",
    "### Cross-Validation:\n",
    "To ensure that our model generalizes well and is not overfitting, we performed **5-fold cross-validation** on the selected **Random Forest (ROS)** model. The cross-validation results produced a mean accuracy of **92.73%**, confirming the model’s reliability and consistency across different subsets of the data.\n",
    "\n",
    "### Challenges and Limitations:\n",
    "Although we initially intended to use **Grid Search** for hyperparameter tuning, resource constraints prevented us from completing this step. However, given the strong performance of the model, we opted to proceed with the current hyperparameters. In future iterations, more extensive hyperparameter tuning could further enhance the model’s performance.\n",
    "\n",
    "### Future Work:\n",
    "In addition to hyperparameter tuning, future improvements could include:\n",
    "- Exploring more advanced data augmentation techniques.\n",
    "- Investigating feature engineering approaches to further optimize the model.\n",
    "- Applying this model to a broader dataset or different domains to test its adaptability.\n",
    "\n",
    "Overall, the **Random Forest (ROS)** model demonstrates strong generalization capabilities and provides reliable sentiment classification for social media data, making it a suitable solution for real-world applications in social media analysis or customer feedback monitoring."
   ]
  }
 ],
 "metadata": {
  "kernelspec": {
   "display_name": "Python 3",
   "language": "python",
   "name": "python3"
  },
  "language_info": {
   "codemirror_mode": {
    "name": "ipython",
    "version": 3
   },
   "file_extension": ".py",
   "mimetype": "text/x-python",
   "name": "python",
   "nbconvert_exporter": "python",
   "pygments_lexer": "ipython3",
   "version": "3.9.7"
  }
 },
 "nbformat": 4,
 "nbformat_minor": 2
}
